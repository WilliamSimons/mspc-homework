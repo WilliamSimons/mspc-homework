{
 "cells": [
  {
   "cell_type": "raw",
   "id": "ba4dbe3d-67c6-4227-b215-6cd872aa367d",
   "metadata": {},
   "source": [
    "Product:\n",
    "\n",
    "    Attributes: name (string), price (float).\n",
    "\n",
    "    Methods:\n",
    "\n",
    "        Constructor to initialize attributes.\n",
    "\n",
    "        display_info(): Prints the product’s name and price.\n",
    "\n",
    "ShoppingCart:\n",
    "\n",
    "    Attribute: items (dictionary storing products and their quantities).\n",
    "    # hint: Use this format  {product.name: {\"product\": product, \"quantity\": quantity}}\n",
    "\n",
    "    Methods:\n",
    "\n",
    "        add_product(product, quantity): Adds a product to the cart or increases its quantity.\n",
    "\n",
    "        remove_product(product, quantity): Reduces the quantity or removes the product.\n",
    "\n",
    "        calculate_total(): Returns the total cost of all items in the cart.\n",
    "\n",
    "        display_cart(): Prints all items, quantities, and the total cost."
   ]
  },
  {
   "cell_type": "code",
   "execution_count": 2,
   "id": "994ef07c-ac4f-44c7-b7f4-666c4257977c",
   "metadata": {},
   "outputs": [
    {
     "name": "stdout",
     "output_type": "stream",
     "text": [
      "Apple is created\n",
      "Banana is created\n",
      "Milk is created\n",
      "0 is created\n",
      "your shopping cart contains {}\n",
      " your added 3 <__main__.Product object at 0x000001A3061A2ED0>\n",
      " your added 1 banana\n",
      " your added 2 milk\n",
      "apple is not in your cart\n",
      " you removed 1 banana\n",
      " you removed 5 milk\n"
     ]
    },
    {
     "data": {
      "text/plain": [
       "' your cart contains {<__main__.Product object at 0x000001A3061A2ED0>: 3}'"
      ]
     },
     "execution_count": 2,
     "metadata": {},
     "output_type": "execute_result"
    }
   ],
   "source": [
    "# Your code here\n",
    "class Product():\n",
    "    def __init__(self, name, price):\n",
    "        self.name = name\n",
    "        self.price = price\n",
    "        print(f\"{self.name} is created\")\n",
    "\n",
    "\n",
    "class ShoppingCart(Product):\n",
    "    def __init__(self, name=0, price=0, quantity = 0):\n",
    "        super().__init__(name, price)\n",
    "        self.quantity = quantity\n",
    "        self.name = name\n",
    "        self.price = price\n",
    "        self.cart = {}\n",
    "        print (f\"your shopping cart contains {self.cart}\")\n",
    "    \n",
    "# ADD\n",
    "    def add_product(self, name=0, quantity=1):\n",
    "        self.name = name\n",
    "        self.quantity = quantity\n",
    "        if name in self.cart:\n",
    "            self.cart[self.name] += self.quantity   \n",
    "        else:\n",
    "            self.cart.update({self.name: self.quantity})\n",
    "        print (f\" your added {self.quantity} {self.name}\")\n",
    "\n",
    "# DISPLAY\n",
    "    def display_cart(self):\n",
    "        return f\" your cart contains {self.cart}\"\n",
    "\n",
    "# REMOVE\n",
    "    def remove_product(self, name, quantity=1):\n",
    "        self.name = name\n",
    "        self.quantity = quantity\n",
    "        if name in self.cart:\n",
    "            if self.cart[self.name] - quantity > 0:\n",
    "                self.cart[self.name] -= self.quantity\n",
    "            else:\n",
    "                del self.cart[self.name]\n",
    "            print(f\" you removed {self.quantity} {self.name}\")\n",
    "        else:\n",
    "            print (f\"{self.name} is not in your cart\")\n",
    "\n",
    "\n",
    "\n",
    "\n",
    "apple = Product(\"Apple\", 0.99)\n",
    "banana = Product(\"Banana\", 0.59)\n",
    "milk = Product(\"Milk\", 3.49)\n",
    "\n",
    "cart = ShoppingCart()\n",
    "\n",
    "cart.add_product(apple, 3)\n",
    "cart.add_product(\"banana\")\n",
    "cart.add_product(\"milk\", 2)\n",
    "cart.display_cart()\n",
    "\n",
    "# Remove items\n",
    "cart.remove_product('apple', 1)\n",
    "cart.remove_product('banana')\n",
    "cart.display_cart()\n",
    "\n",
    "# Try to remove a product not in the cart\n",
    "cart.remove_product('milk', 5)  # Removes all milk\n",
    "cart.display_cart()\n",
    "  "
   ]
  },
  {
   "cell_type": "code",
   "execution_count": null,
   "id": "0e042ed8-de61-42ec-8200-5637d33e29aa",
   "metadata": {},
   "outputs": [],
   "source": []
  }
 ],
 "metadata": {
  "kernelspec": {
   "display_name": "Python 3 (ipykernel)",
   "language": "python",
   "name": "python3"
  },
  "language_info": {
   "codemirror_mode": {
    "name": "ipython",
    "version": 3
   },
   "file_extension": ".py",
   "mimetype": "text/x-python",
   "name": "python",
   "nbconvert_exporter": "python",
   "pygments_lexer": "ipython3",
   "version": "3.12.9"
  }
 },
 "nbformat": 4,
 "nbformat_minor": 5
}

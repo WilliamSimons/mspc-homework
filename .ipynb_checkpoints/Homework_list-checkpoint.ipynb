{
 "cells": [
  {
   "cell_type": "code",
   "execution_count": 40,
   "id": "0d19f13f-1e1b-4532-a192-ef3df9f6ae7a",
   "metadata": {},
   "outputs": [],
   "source": [
    "from rich import print\n",
    "# 17 list comprehension problems in python\n",
    "\n",
    "fruits = ['mango', 'kiwi', 'strawberry', 'guava', 'pineapple', 'mandarin orange']\n",
    "\n",
    "numbers = [2, 3, 4, 5, 6, 7, 8, 9, 10, 11, 13, 17, 19, 23, 256, -8, -4, -2, 5, -9]\n",
    "\n",
    "# Example for loop solution to add 1 to each number in the list\n",
    "numbers_plus_one = []\n",
    "for number in numbers:\n",
    "    numbers_plus_one.append(number + 1)\n",
    "\n",
    "# Example of using a list comprehension to create a list of the numbers plus one.\n",
    "numbers_plus_one = [number + 1 for number in numbers]\n",
    "\n",
    "# Example code that creates a list of all of the list of strings in fruits and uppercases every string\n",
    "uppercased_fruits = []\n",
    "for fruit in fruits:\n",
    "    uppercased_fruits.append(fruit.upper())\n",
    "#Exercise 1: print(uppercased_fruits)\n",
    "\n",
    "capitalized_fruits = []\n",
    "for fruit in fruits:\n",
    "    capitalized_fruits.append(fruit.title())\n",
    "#Exercise 2: print(capitalized_fruits"
   ]
  },
  {
   "cell_type": "raw",
   "id": "d448fa94-1bba-4d11-a660-bb32a63bbc50",
   "metadata": {},
   "source": [
    "Exercise 1 - rewrite the above example code using list comprehension syntax. Make a variable named uppercased_fruits to hold the output of the list comprehension. Output should be ['MANGO', 'KIWI', etc...]"
   ]
  },
  {
   "cell_type": "raw",
   "id": "0b0590c7-5c17-416b-b7be-339e28d0e642",
   "metadata": {},
   "source": [
    "Exercise 2 - create a variable named capitalized_fruits and use list comprehension syntax to produce output like ['Mango', 'Kiwi', 'Strawberry', etc...]"
   ]
  },
  {
   "cell_type": "raw",
   "id": "3316e3e1-1cbd-4e73-9103-0081c69f7046",
   "metadata": {},
   "source": [
    "Exercise 3 - Use a list comprehension to make a variable named fruits_with_more_than_two_vowels. Hint: You'll need a way to check if something is a vowel."
   ]
  },
  {
   "cell_type": "code",
   "execution_count": 26,
   "id": "2776d35f-a26c-4926-8460-28f9120e1302",
   "metadata": {},
   "outputs": [
    {
     "data": {
      "text/html": [
       "<pre style=\"white-space:pre;overflow-x:auto;line-height:normal;font-family:Menlo,'DejaVu Sans Mono',consolas,'Courier New',monospace\"><span style=\"color: #008080; text-decoration-color: #008080; font-weight: bold\">2</span>\n",
       "</pre>\n"
      ],
      "text/plain": [
       "\u001b[1;36m2\u001b[0m\n"
      ]
     },
     "metadata": {},
     "output_type": "display_data"
    },
    {
     "data": {
      "text/html": [
       "<pre style=\"white-space:pre;overflow-x:auto;line-height:normal;font-family:Menlo,'DejaVu Sans Mono',consolas,'Courier New',monospace\">mango has more then two vovals\n",
       "</pre>\n"
      ],
      "text/plain": [
       "mango has more then two vovals\n"
      ]
     },
     "metadata": {},
     "output_type": "display_data"
    },
    {
     "data": {
      "text/html": [
       "<pre style=\"white-space:pre;overflow-x:auto;line-height:normal;font-family:Menlo,'DejaVu Sans Mono',consolas,'Courier New',monospace\"><span style=\"color: #008080; text-decoration-color: #008080; font-weight: bold\">2</span>\n",
       "</pre>\n"
      ],
      "text/plain": [
       "\u001b[1;36m2\u001b[0m\n"
      ]
     },
     "metadata": {},
     "output_type": "display_data"
    },
    {
     "data": {
      "text/html": [
       "<pre style=\"white-space:pre;overflow-x:auto;line-height:normal;font-family:Menlo,'DejaVu Sans Mono',consolas,'Courier New',monospace\">kiwi has more then two vovals\n",
       "</pre>\n"
      ],
      "text/plain": [
       "kiwi has more then two vovals\n"
      ]
     },
     "metadata": {},
     "output_type": "display_data"
    },
    {
     "data": {
      "text/html": [
       "<pre style=\"white-space:pre;overflow-x:auto;line-height:normal;font-family:Menlo,'DejaVu Sans Mono',consolas,'Courier New',monospace\"><span style=\"color: #008080; text-decoration-color: #008080; font-weight: bold\">2</span>\n",
       "</pre>\n"
      ],
      "text/plain": [
       "\u001b[1;36m2\u001b[0m\n"
      ]
     },
     "metadata": {},
     "output_type": "display_data"
    },
    {
     "data": {
      "text/html": [
       "<pre style=\"white-space:pre;overflow-x:auto;line-height:normal;font-family:Menlo,'DejaVu Sans Mono',consolas,'Courier New',monospace\">strawberry has more then two vovals\n",
       "</pre>\n"
      ],
      "text/plain": [
       "strawberry has more then two vovals\n"
      ]
     },
     "metadata": {},
     "output_type": "display_data"
    },
    {
     "data": {
      "text/html": [
       "<pre style=\"white-space:pre;overflow-x:auto;line-height:normal;font-family:Menlo,'DejaVu Sans Mono',consolas,'Courier New',monospace\"><span style=\"color: #008080; text-decoration-color: #008080; font-weight: bold\">3</span>\n",
       "</pre>\n"
      ],
      "text/plain": [
       "\u001b[1;36m3\u001b[0m\n"
      ]
     },
     "metadata": {},
     "output_type": "display_data"
    },
    {
     "data": {
      "text/html": [
       "<pre style=\"white-space:pre;overflow-x:auto;line-height:normal;font-family:Menlo,'DejaVu Sans Mono',consolas,'Courier New',monospace\">guava has more then two vovals\n",
       "</pre>\n"
      ],
      "text/plain": [
       "guava has more then two vovals\n"
      ]
     },
     "metadata": {},
     "output_type": "display_data"
    },
    {
     "data": {
      "text/html": [
       "<pre style=\"white-space:pre;overflow-x:auto;line-height:normal;font-family:Menlo,'DejaVu Sans Mono',consolas,'Courier New',monospace\"><span style=\"color: #008080; text-decoration-color: #008080; font-weight: bold\">4</span>\n",
       "</pre>\n"
      ],
      "text/plain": [
       "\u001b[1;36m4\u001b[0m\n"
      ]
     },
     "metadata": {},
     "output_type": "display_data"
    },
    {
     "data": {
      "text/html": [
       "<pre style=\"white-space:pre;overflow-x:auto;line-height:normal;font-family:Menlo,'DejaVu Sans Mono',consolas,'Courier New',monospace\">pineapple has more then two vovals\n",
       "</pre>\n"
      ],
      "text/plain": [
       "pineapple has more then two vovals\n"
      ]
     },
     "metadata": {},
     "output_type": "display_data"
    },
    {
     "data": {
      "text/html": [
       "<pre style=\"white-space:pre;overflow-x:auto;line-height:normal;font-family:Menlo,'DejaVu Sans Mono',consolas,'Courier New',monospace\"><span style=\"color: #008080; text-decoration-color: #008080; font-weight: bold\">6</span>\n",
       "</pre>\n"
      ],
      "text/plain": [
       "\u001b[1;36m6\u001b[0m\n"
      ]
     },
     "metadata": {},
     "output_type": "display_data"
    },
    {
     "data": {
      "text/html": [
       "<pre style=\"white-space:pre;overflow-x:auto;line-height:normal;font-family:Menlo,'DejaVu Sans Mono',consolas,'Courier New',monospace\">mandarin orange has more then two vovals\n",
       "</pre>\n"
      ],
      "text/plain": [
       "mandarin orange has more then two vovals\n"
      ]
     },
     "metadata": {},
     "output_type": "display_data"
    }
   ],
   "source": [
    "voval = ['a', 'e', 'i', 'o', 'u', 'A', 'E', 'I', 'O', 'U']\n",
    "count = 0\n",
    "for fruit in fruits:\n",
    "    for letter in fruit:\n",
    "        if letter in voval:\n",
    "            count = count+1\n",
    "    if count > 1:\n",
    "        print(count)\n",
    "        print(f\"{fruit} has more then two vovals\")\n",
    "        count = 0\n",
    "    else:\n",
    "        print(count)\n",
    "        print(f\"{fruit} has two or less then two vovals\")\n",
    "        count = 0"
   ]
  },
  {
   "cell_type": "raw",
   "id": "f2888008-5754-4c80-9008-9e6a44576692",
   "metadata": {},
   "source": [
    "Exercise 4 - make a variable named fruits_with_only_two_vowels. The result should be ['mango', 'kiwi', 'strawberry']"
   ]
  },
  {
   "cell_type": "code",
   "execution_count": 28,
   "id": "d9aaafa4-b825-4dd5-bde6-4163d3ba0970",
   "metadata": {},
   "outputs": [
    {
     "data": {
      "text/html": [
       "<pre style=\"white-space:pre;overflow-x:auto;line-height:normal;font-family:Menlo,'DejaVu Sans Mono',consolas,'Courier New',monospace\"><span style=\"font-weight: bold\">[</span><span style=\"color: #008000; text-decoration-color: #008000\">'mango'</span>, <span style=\"color: #008000; text-decoration-color: #008000\">'kiwi'</span>, <span style=\"color: #008000; text-decoration-color: #008000\">'strawberry'</span>, <span style=\"color: #008000; text-decoration-color: #008000\">'guava'</span>, <span style=\"color: #008000; text-decoration-color: #008000\">'pineapple'</span>, <span style=\"color: #008000; text-decoration-color: #008000\">'mandarin orange'</span><span style=\"font-weight: bold\">]</span>\n",
       "</pre>\n"
      ],
      "text/plain": [
       "\u001b[1m[\u001b[0m\u001b[32m'mango'\u001b[0m, \u001b[32m'kiwi'\u001b[0m, \u001b[32m'strawberry'\u001b[0m, \u001b[32m'guava'\u001b[0m, \u001b[32m'pineapple'\u001b[0m, \u001b[32m'mandarin orange'\u001b[0m\u001b[1m]\u001b[0m\n"
      ]
     },
     "metadata": {},
     "output_type": "display_data"
    }
   ],
   "source": [
    "fruits_with_only_two_vowels = []\n",
    "for fruit in fruits:\n",
    "    count = 0\n",
    "    for letter in fruit:\n",
    "        if letter in voval:\n",
    "            count = count+1\n",
    "    if count > 1:\n",
    "        fruits_with_only_two_vowels.append(fruit)\n",
    "print(fruits_with_only_two_vowels)"
   ]
  },
  {
   "cell_type": "raw",
   "id": "f5cf2612-988c-421f-995e-ad01444d626c",
   "metadata": {},
   "source": [
    "Exercise 5 - make a list that contains each fruit with more than 5 characters"
   ]
  },
  {
   "cell_type": "code",
   "execution_count": 29,
   "id": "9e4e4bab-338a-4d79-97d8-89fc3ae0c0be",
   "metadata": {},
   "outputs": [
    {
     "data": {
      "text/html": [
       "<pre style=\"white-space:pre;overflow-x:auto;line-height:normal;font-family:Menlo,'DejaVu Sans Mono',consolas,'Courier New',monospace\"><span style=\"font-weight: bold\">[</span><span style=\"color: #008000; text-decoration-color: #008000\">'strawberry'</span>, <span style=\"color: #008000; text-decoration-color: #008000\">'pineapple'</span>, <span style=\"color: #008000; text-decoration-color: #008000\">'mandarin orange'</span><span style=\"font-weight: bold\">]</span>\n",
       "</pre>\n"
      ],
      "text/plain": [
       "\u001b[1m[\u001b[0m\u001b[32m'strawberry'\u001b[0m, \u001b[32m'pineapple'\u001b[0m, \u001b[32m'mandarin orange'\u001b[0m\u001b[1m]\u001b[0m\n"
      ]
     },
     "metadata": {},
     "output_type": "display_data"
    }
   ],
   "source": [
    "fruits_larger_then_5 = []\n",
    "for fruit in fruits:\n",
    "    count = 0\n",
    "    for letter in fruit:\n",
    "            count = count+1\n",
    "    if count > 5:\n",
    "        fruits_larger_then_5.append(fruit)\n",
    "print(fruits_larger_then_5)"
   ]
  },
  {
   "cell_type": "raw",
   "id": "d869e413-4745-40f5-9e0b-7dbacc80cc1c",
   "metadata": {},
   "source": [
    "Exercise 6 - make a list that contains each fruit with exactly 5 characters"
   ]
  },
  {
   "cell_type": "code",
   "execution_count": 31,
   "id": "bcd65236-c108-4a58-8a42-6a8aa29a249c",
   "metadata": {},
   "outputs": [
    {
     "data": {
      "text/html": [
       "<pre style=\"white-space:pre;overflow-x:auto;line-height:normal;font-family:Menlo,'DejaVu Sans Mono',consolas,'Courier New',monospace\"><span style=\"font-weight: bold\">[</span><span style=\"color: #008000; text-decoration-color: #008000\">'mango'</span>, <span style=\"color: #008000; text-decoration-color: #008000\">'guava'</span><span style=\"font-weight: bold\">]</span>\n",
       "</pre>\n"
      ],
      "text/plain": [
       "\u001b[1m[\u001b[0m\u001b[32m'mango'\u001b[0m, \u001b[32m'guava'\u001b[0m\u001b[1m]\u001b[0m\n"
      ]
     },
     "metadata": {},
     "output_type": "display_data"
    }
   ],
   "source": [
    "fruits_equal_5 = []\n",
    "for fruit in fruits:\n",
    "    count = 0\n",
    "    for letter in fruit:\n",
    "            count = count+1\n",
    "    if count == 5:\n",
    "        fruits_equal_5.append(fruit)\n",
    "print(fruits_equal_5)"
   ]
  },
  {
   "cell_type": "raw",
   "id": "43bfa651-b20c-4f2e-a44c-b86b23a0c799",
   "metadata": {},
   "source": [
    "Exercise 7 - Make a list that contains fruits that have less than 5 characters"
   ]
  },
  {
   "cell_type": "code",
   "execution_count": 32,
   "id": "bc00bc3d-50c5-4f12-8e21-d3124aede3ac",
   "metadata": {},
   "outputs": [
    {
     "data": {
      "text/html": [
       "<pre style=\"white-space:pre;overflow-x:auto;line-height:normal;font-family:Menlo,'DejaVu Sans Mono',consolas,'Courier New',monospace\"><span style=\"font-weight: bold\">[</span><span style=\"color: #008000; text-decoration-color: #008000\">'kiwi'</span><span style=\"font-weight: bold\">]</span>\n",
       "</pre>\n"
      ],
      "text/plain": [
       "\u001b[1m[\u001b[0m\u001b[32m'kiwi'\u001b[0m\u001b[1m]\u001b[0m\n"
      ]
     },
     "metadata": {},
     "output_type": "display_data"
    }
   ],
   "source": [
    "fruits_less_then_5 = []\n",
    "for fruit in fruits:\n",
    "    count = 0\n",
    "    for letter in fruit:\n",
    "            count = count+1\n",
    "    if count < 5:\n",
    "        fruits_less_then_5.append(fruit)\n",
    "print(fruits_less_then_5)"
   ]
  },
  {
   "cell_type": "raw",
   "id": "f50282f7-9069-4a12-8a4b-0d03c9361436",
   "metadata": {},
   "source": [
    "Exercise 8 - Make a list containing the number of characters in each fruit. Output would be [5, 4, 10, etc... ]"
   ]
  },
  {
   "cell_type": "code",
   "execution_count": 33,
   "id": "4b048720-738e-4ef5-9f16-e7ffe6a7b2f1",
   "metadata": {},
   "outputs": [
    {
     "data": {
      "text/html": [
       "<pre style=\"white-space:pre;overflow-x:auto;line-height:normal;font-family:Menlo,'DejaVu Sans Mono',consolas,'Courier New',monospace\"><span style=\"font-weight: bold\">[</span><span style=\"color: #008080; text-decoration-color: #008080; font-weight: bold\">5</span>, <span style=\"color: #008080; text-decoration-color: #008080; font-weight: bold\">4</span>, <span style=\"color: #008080; text-decoration-color: #008080; font-weight: bold\">10</span>, <span style=\"color: #008080; text-decoration-color: #008080; font-weight: bold\">5</span>, <span style=\"color: #008080; text-decoration-color: #008080; font-weight: bold\">9</span>, <span style=\"color: #008080; text-decoration-color: #008080; font-weight: bold\">15</span><span style=\"font-weight: bold\">]</span>\n",
       "</pre>\n"
      ],
      "text/plain": [
       "\u001b[1m[\u001b[0m\u001b[1;36m5\u001b[0m, \u001b[1;36m4\u001b[0m, \u001b[1;36m10\u001b[0m, \u001b[1;36m5\u001b[0m, \u001b[1;36m9\u001b[0m, \u001b[1;36m15\u001b[0m\u001b[1m]\u001b[0m\n"
      ]
     },
     "metadata": {},
     "output_type": "display_data"
    }
   ],
   "source": [
    "Nr_of_characters = []\n",
    "for fruit in fruits:\n",
    "    count = 0\n",
    "    for letter in fruit:\n",
    "            count = count+1\n",
    "    Nr_of_characters.append(count)\n",
    "print(Nr_of_characters)"
   ]
  },
  {
   "cell_type": "raw",
   "id": "4e920e40-47c6-44b7-a6f2-fe10e5e90cdf",
   "metadata": {},
   "source": [
    "Exercise 9 - Make a variable named fruits_with_letter_a that contains a list of only the fruits that contain the letter \"a\""
   ]
  },
  {
   "cell_type": "code",
   "execution_count": 39,
   "id": "2ce64935-614e-4245-b3ad-d7a5fe8b0209",
   "metadata": {},
   "outputs": [
    {
     "data": {
      "text/html": [
       "<pre style=\"white-space:pre;overflow-x:auto;line-height:normal;font-family:Menlo,'DejaVu Sans Mono',consolas,'Courier New',monospace\"><span style=\"font-weight: bold\">[</span><span style=\"color: #008000; text-decoration-color: #008000\">'mango'</span>, <span style=\"color: #008000; text-decoration-color: #008000\">'strawberry'</span>, <span style=\"color: #008000; text-decoration-color: #008000\">'guava'</span>, <span style=\"color: #008000; text-decoration-color: #008000\">'pineapple'</span>, <span style=\"color: #008000; text-decoration-color: #008000\">'mandarin orange'</span><span style=\"font-weight: bold\">]</span>\n",
       "</pre>\n"
      ],
      "text/plain": [
       "\u001b[1m[\u001b[0m\u001b[32m'mango'\u001b[0m, \u001b[32m'strawberry'\u001b[0m, \u001b[32m'guava'\u001b[0m, \u001b[32m'pineapple'\u001b[0m, \u001b[32m'mandarin orange'\u001b[0m\u001b[1m]\u001b[0m\n"
      ]
     },
     "metadata": {},
     "output_type": "display_data"
    }
   ],
   "source": [
    "fruits_with_letter_a = []\n",
    "for fruit in fruits:\n",
    "    for letter in fruit:\n",
    "        if letter == 'a':\n",
    "            fruits_with_letter_a.append(fruit)\n",
    "            break\n",
    "print(fruits_with_letter_a)"
   ]
  },
  {
   "cell_type": "raw",
   "id": "601e2da6-c13e-4bb9-a509-93dd6610a3d1",
   "metadata": {},
   "source": [
    "Exercise 10 - Make a variable named even_numbers that holds only the even numbers"
   ]
  },
  {
   "cell_type": "code",
   "execution_count": 43,
   "id": "9161330a-6794-4dc0-9c0b-73ded02cf9b1",
   "metadata": {},
   "outputs": [
    {
     "data": {
      "text/html": [
       "<pre style=\"white-space:pre;overflow-x:auto;line-height:normal;font-family:Menlo,'DejaVu Sans Mono',consolas,'Courier New',monospace\"><span style=\"font-weight: bold\">[</span><span style=\"color: #008080; text-decoration-color: #008080; font-weight: bold\">2</span>, <span style=\"color: #008080; text-decoration-color: #008080; font-weight: bold\">4</span>, <span style=\"color: #008080; text-decoration-color: #008080; font-weight: bold\">6</span>, <span style=\"color: #008080; text-decoration-color: #008080; font-weight: bold\">8</span>, <span style=\"color: #008080; text-decoration-color: #008080; font-weight: bold\">10</span>, <span style=\"color: #008080; text-decoration-color: #008080; font-weight: bold\">256</span>, <span style=\"color: #008080; text-decoration-color: #008080; font-weight: bold\">-8</span>, <span style=\"color: #008080; text-decoration-color: #008080; font-weight: bold\">-4</span>, <span style=\"color: #008080; text-decoration-color: #008080; font-weight: bold\">-2</span><span style=\"font-weight: bold\">]</span>\n",
       "</pre>\n"
      ],
      "text/plain": [
       "\u001b[1m[\u001b[0m\u001b[1;36m2\u001b[0m, \u001b[1;36m4\u001b[0m, \u001b[1;36m6\u001b[0m, \u001b[1;36m8\u001b[0m, \u001b[1;36m10\u001b[0m, \u001b[1;36m256\u001b[0m, \u001b[1;36m-8\u001b[0m, \u001b[1;36m-4\u001b[0m, \u001b[1;36m-2\u001b[0m\u001b[1m]\u001b[0m\n"
      ]
     },
     "metadata": {},
     "output_type": "display_data"
    }
   ],
   "source": [
    "even_numbers = []\n",
    "for step in numbers:\n",
    "    if step % 2 == 0:\n",
    "        even_numbers.append(step)\n",
    "print(even_numbers)"
   ]
  },
  {
   "cell_type": "raw",
   "id": "4cbaa353-e487-4db6-adf3-a76f1f48932c",
   "metadata": {},
   "source": [
    "Exercise 11 - Make a variable named odd_numbers that holds only the odd numbers"
   ]
  },
  {
   "cell_type": "code",
   "execution_count": 46,
   "id": "8d7d2e36-dd69-4e2d-8f1f-49fa735fdbfb",
   "metadata": {},
   "outputs": [
    {
     "data": {
      "text/html": [
       "<pre style=\"white-space:pre;overflow-x:auto;line-height:normal;font-family:Menlo,'DejaVu Sans Mono',consolas,'Courier New',monospace\"><span style=\"font-weight: bold\">[</span><span style=\"color: #008080; text-decoration-color: #008080; font-weight: bold\">3</span>, <span style=\"color: #008080; text-decoration-color: #008080; font-weight: bold\">5</span>, <span style=\"color: #008080; text-decoration-color: #008080; font-weight: bold\">7</span>, <span style=\"color: #008080; text-decoration-color: #008080; font-weight: bold\">9</span>, <span style=\"color: #008080; text-decoration-color: #008080; font-weight: bold\">11</span>, <span style=\"color: #008080; text-decoration-color: #008080; font-weight: bold\">13</span>, <span style=\"color: #008080; text-decoration-color: #008080; font-weight: bold\">17</span>, <span style=\"color: #008080; text-decoration-color: #008080; font-weight: bold\">19</span>, <span style=\"color: #008080; text-decoration-color: #008080; font-weight: bold\">23</span>, <span style=\"color: #008080; text-decoration-color: #008080; font-weight: bold\">5</span>, <span style=\"color: #008080; text-decoration-color: #008080; font-weight: bold\">-9</span><span style=\"font-weight: bold\">]</span>\n",
       "</pre>\n"
      ],
      "text/plain": [
       "\u001b[1m[\u001b[0m\u001b[1;36m3\u001b[0m, \u001b[1;36m5\u001b[0m, \u001b[1;36m7\u001b[0m, \u001b[1;36m9\u001b[0m, \u001b[1;36m11\u001b[0m, \u001b[1;36m13\u001b[0m, \u001b[1;36m17\u001b[0m, \u001b[1;36m19\u001b[0m, \u001b[1;36m23\u001b[0m, \u001b[1;36m5\u001b[0m, \u001b[1;36m-9\u001b[0m\u001b[1m]\u001b[0m\n"
      ]
     },
     "metadata": {},
     "output_type": "display_data"
    }
   ],
   "source": [
    "odd_numbers = []\n",
    "for step in numbers:\n",
    "    if step % 2 != 0:\n",
    "        odd_numbers.append(step)\n",
    "print(odd_numbers)"
   ]
  },
  {
   "cell_type": "raw",
   "id": "b85693ad-19bd-4e9c-8fa5-ae20a105c004",
   "metadata": {},
   "source": [
    "Exercise 12 - Make a variable named positive_numbers that holds only the positive numbers"
   ]
  },
  {
   "cell_type": "code",
   "execution_count": 50,
   "id": "a04b9283-2d90-4082-9f76-e5dba33d2c87",
   "metadata": {},
   "outputs": [
    {
     "data": {
      "text/html": [
       "<pre style=\"white-space:pre;overflow-x:auto;line-height:normal;font-family:Menlo,'DejaVu Sans Mono',consolas,'Courier New',monospace\"><span style=\"font-weight: bold\">[</span><span style=\"color: #008080; text-decoration-color: #008080; font-weight: bold\">2</span>, <span style=\"color: #008080; text-decoration-color: #008080; font-weight: bold\">3</span>, <span style=\"color: #008080; text-decoration-color: #008080; font-weight: bold\">4</span>, <span style=\"color: #008080; text-decoration-color: #008080; font-weight: bold\">5</span>, <span style=\"color: #008080; text-decoration-color: #008080; font-weight: bold\">6</span>, <span style=\"color: #008080; text-decoration-color: #008080; font-weight: bold\">7</span>, <span style=\"color: #008080; text-decoration-color: #008080; font-weight: bold\">8</span>, <span style=\"color: #008080; text-decoration-color: #008080; font-weight: bold\">9</span>, <span style=\"color: #008080; text-decoration-color: #008080; font-weight: bold\">10</span>, <span style=\"color: #008080; text-decoration-color: #008080; font-weight: bold\">11</span>, <span style=\"color: #008080; text-decoration-color: #008080; font-weight: bold\">13</span>, <span style=\"color: #008080; text-decoration-color: #008080; font-weight: bold\">17</span>, <span style=\"color: #008080; text-decoration-color: #008080; font-weight: bold\">19</span>, <span style=\"color: #008080; text-decoration-color: #008080; font-weight: bold\">23</span>, <span style=\"color: #008080; text-decoration-color: #008080; font-weight: bold\">256</span>, <span style=\"color: #008080; text-decoration-color: #008080; font-weight: bold\">5</span><span style=\"font-weight: bold\">]</span>\n",
       "</pre>\n"
      ],
      "text/plain": [
       "\u001b[1m[\u001b[0m\u001b[1;36m2\u001b[0m, \u001b[1;36m3\u001b[0m, \u001b[1;36m4\u001b[0m, \u001b[1;36m5\u001b[0m, \u001b[1;36m6\u001b[0m, \u001b[1;36m7\u001b[0m, \u001b[1;36m8\u001b[0m, \u001b[1;36m9\u001b[0m, \u001b[1;36m10\u001b[0m, \u001b[1;36m11\u001b[0m, \u001b[1;36m13\u001b[0m, \u001b[1;36m17\u001b[0m, \u001b[1;36m19\u001b[0m, \u001b[1;36m23\u001b[0m, \u001b[1;36m256\u001b[0m, \u001b[1;36m5\u001b[0m\u001b[1m]\u001b[0m\n"
      ]
     },
     "metadata": {},
     "output_type": "display_data"
    }
   ],
   "source": [
    "positive_numbers = []\n",
    "for step in numbers:\n",
    "     if step >= 0:\n",
    "         positive_numbers.append(step)\n",
    "print(positive_numbers)"
   ]
  },
  {
   "cell_type": "raw",
   "id": "64b8bec7-0602-4b73-a0fa-de60d3b365cc",
   "metadata": {},
   "source": [
    "Exercise 13 - Make a variable named negative_numbers that holds only the negative numbers"
   ]
  },
  {
   "cell_type": "code",
   "execution_count": 51,
   "id": "48611fa3-205b-4452-ace8-2bd971b4cbd9",
   "metadata": {},
   "outputs": [
    {
     "data": {
      "text/html": [
       "<pre style=\"white-space:pre;overflow-x:auto;line-height:normal;font-family:Menlo,'DejaVu Sans Mono',consolas,'Courier New',monospace\"><span style=\"font-weight: bold\">[</span><span style=\"color: #008080; text-decoration-color: #008080; font-weight: bold\">-8</span>, <span style=\"color: #008080; text-decoration-color: #008080; font-weight: bold\">-4</span>, <span style=\"color: #008080; text-decoration-color: #008080; font-weight: bold\">-2</span>, <span style=\"color: #008080; text-decoration-color: #008080; font-weight: bold\">-9</span><span style=\"font-weight: bold\">]</span>\n",
       "</pre>\n"
      ],
      "text/plain": [
       "\u001b[1m[\u001b[0m\u001b[1;36m-8\u001b[0m, \u001b[1;36m-4\u001b[0m, \u001b[1;36m-2\u001b[0m, \u001b[1;36m-9\u001b[0m\u001b[1m]\u001b[0m\n"
      ]
     },
     "metadata": {},
     "output_type": "display_data"
    }
   ],
   "source": [
    "negative_numbers = []\n",
    "for step in numbers:\n",
    "     if step < 0:\n",
    "         negative_numbers.append(step)\n",
    "print(negative_numbers)"
   ]
  },
  {
   "cell_type": "code",
   "execution_count": null,
   "id": "eb441cd1-a564-4a67-9fcf-65211b36e5f9",
   "metadata": {},
   "outputs": [],
   "source": []
  }
 ],
 "metadata": {
  "kernelspec": {
   "display_name": "Python 3 (ipykernel)",
   "language": "python",
   "name": "python3"
  },
  "language_info": {
   "codemirror_mode": {
    "name": "ipython",
    "version": 3
   },
   "file_extension": ".py",
   "mimetype": "text/x-python",
   "name": "python",
   "nbconvert_exporter": "python",
   "pygments_lexer": "ipython3",
   "version": "3.12.9"
  }
 },
 "nbformat": 4,
 "nbformat_minor": 5
}

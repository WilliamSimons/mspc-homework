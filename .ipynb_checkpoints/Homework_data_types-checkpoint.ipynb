{
 "cells": [
  {
   "cell_type": "markdown",
   "id": "0d4140a9-e18e-4bab-865a-f00bf1efdc25",
   "metadata": {},
   "source": [
    "Exercise:\n",
    "Your software receives a message with data of clients that, for an unknown reason, is not in the needed format.\n",
    "The messages look like:\n",
    "https://database.com/user/augustom,AugUSto Martin, 23, Approved,,\n",
    "https://database.com/user/juliasch,JuLIA SchmidT, 67, rejected,,\n",
    "https://database.com/user/kmarx,Karl Marx, 42, rejected,,\n",
    "However, your software needs to process messages like this:\n",
    "message:  augustom,augustomartin,23,approved\n",
    "message:  juliasch,juliaschmidt,67,rejected\n",
    "message:  kmarx,karlmarx,42,rejected\n",
    "Task: Use str methods to correct the original message so you ALWAYS have messages compatible with your software.\n",
    "You explore the list of methods available in in str class here¶"
   ]
  },
  {
   "cell_type": "code",
   "execution_count": 5,
   "id": "8c122c92-796a-4d6d-828d-07c11996eb90",
   "metadata": {},
   "outputs": [
    {
     "name": "stdout",
     "output_type": "stream",
     "text": [
      "augustom,augustomartin,23,approved\n",
      "juliasch,juliaschmidt,67,rejected\n",
      "kmarx,karlmarx,42,rejected\n"
     ]
    }
   ],
   "source": [
    "messages = [\"https://database.com/user/augustom,AugUSto Martin, 23, Approved,,\",\n",
    "           \"https://database.com/user/juliasch,JuLIA SchmidT, 67, rejected,,\",\n",
    "           \"https://database.com/user/kmarx,Karl Marx, 42, rejected,,\"]\n",
    "\n",
    "for message in messages:\n",
    "    new_message = message.removeprefix(\"https://database.com/user/\").lower().replace(\" \",\"\")\n",
    "    new_message = new_message[:-2]\n",
    "    print(new_message)\n",
    "    \n",
    "\n"
   ]
  },
  {
   "cell_type": "markdown",
   "id": "b95adec6-787b-4b63-8631-ade3387c5346",
   "metadata": {},
   "source": [
    "Exercise:\n",
    "Task: Calculate the arclength of an angle\n",
    "Hint: Define an expression that will take the radius and angle as inputs\n",
    "Expected result:\n",
    "Diameter of circle: 9\n",
    "angle measure: 45\n",
    "Arc Length is: 3.5357142857142856"
   ]
  },
  {
   "cell_type": "code",
   "execution_count": 9,
   "id": "6562c0ee-4712-4b83-b701-e5b89f91ccd4",
   "metadata": {},
   "outputs": [
    {
     "name": "stdout",
     "output_type": "stream",
     "text": [
      "3.5325\n"
     ]
    }
   ],
   "source": [
    "d = 9\n",
    "alpha = 45\n",
    "arc_length = 3.14*d*alpha/360\n",
    "print(arc_length)"
   ]
  },
  {
   "cell_type": "code",
   "execution_count": null,
   "id": "32859dc7-02cf-4396-ab91-781abf52366c",
   "metadata": {},
   "outputs": [],
   "source": []
  }
 ],
 "metadata": {
  "kernelspec": {
   "display_name": "Python 3 (ipykernel)",
   "language": "python",
   "name": "python3"
  },
  "language_info": {
   "codemirror_mode": {
    "name": "ipython",
    "version": 3
   },
   "file_extension": ".py",
   "mimetype": "text/x-python",
   "name": "python",
   "nbconvert_exporter": "python",
   "pygments_lexer": "ipython3",
   "version": "3.12.9"
  }
 },
 "nbformat": 4,
 "nbformat_minor": 5
}

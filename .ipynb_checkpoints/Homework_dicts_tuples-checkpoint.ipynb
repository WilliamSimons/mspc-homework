{
 "cells": [
  {
   "cell_type": "raw",
   "id": "ea4606c4-2a1c-418d-aaa8-2406e9850914",
   "metadata": {},
   "source": [
    "Homework\n",
    "You are given a list of dictionaries, where each dictionary represents a student and contains their name and a list of grades. Write a Python function that:\n",
    "\n",
    "Iterates through the list of dictionaries.\n",
    "For each student, calculates their average grade.\n",
    "It sorts the grade.\n",
    "Adds a new key to the dictionary named 'average' that stores their average grade.\n",
    "Returns a list of dictionaries with the students' names and their average grades.\n",
    "Input\n",
    "\n",
    "students = [\n",
    "    {'name': 'Alice', 'grades': [90, 85, 92]},\n",
    "    {'name': 'Bob', 'grades': [70, 88, 80]},\n",
    "    {'name': 'Charlie', 'grades': [95, 93, 97]}\n",
    "]\n",
    "Output\n",
    "\n",
    "[\n",
    "    {'name': 'Alice', 'grades': [85, 90, 92], 'average': 89.0},\n",
    "    {'name': 'Bob', 'grades': [70, 80, 88], 'average': 79.33},\n",
    "    {'name': 'Charlie', 'grades': [97, 95, 93], 'average': 95.0}\n",
    "]"
   ]
  },
  {
   "cell_type": "code",
   "execution_count": 6,
   "id": "5b3d786d-c87d-454e-8d00-24a53cd16fcb",
   "metadata": {},
   "outputs": [
    {
     "name": "stdout",
     "output_type": "stream",
     "text": [
      "{'name': 'Alice', 'grades': [92, 90, 85], 'average': 89.0}\n",
      "{'name': 'Bob', 'grades': [88, 80, 70], 'average': 79.33333333333333}\n",
      "{'name': 'Charlie', 'grades': [97, 95, 93], 'average': 95.0}\n"
     ]
    }
   ],
   "source": [
    "def simplify_list(students):\n",
    "    for student in students:\n",
    "        student[\"grades\"]=sorted(student[\"grades\"], reverse = True)\n",
    "        average = sum(student[\"grades\"])/3\n",
    "        student.update({\"average\": average})\n",
    "        print(student)\n",
    "    \n",
    "\n",
    "students = [\n",
    "    {'name': 'Alice', 'grades': [90, 85, 92]},\n",
    "    {'name': 'Bob', 'grades': [70, 88, 80]},\n",
    "    {'name': 'Charlie', 'grades': [95, 93, 97]}\n",
    "]\n",
    "\n",
    "simplify_list(students)\n"
   ]
  },
  {
   "cell_type": "code",
   "execution_count": null,
   "id": "af816bb6-f7d4-40f8-b690-36d98820e054",
   "metadata": {},
   "outputs": [],
   "source": []
  }
 ],
 "metadata": {
  "kernelspec": {
   "display_name": "Python 3 (ipykernel)",
   "language": "python",
   "name": "python3"
  },
  "language_info": {
   "codemirror_mode": {
    "name": "ipython",
    "version": 3
   },
   "file_extension": ".py",
   "mimetype": "text/x-python",
   "name": "python",
   "nbconvert_exporter": "python",
   "pygments_lexer": "ipython3",
   "version": "3.12.9"
  }
 },
 "nbformat": 4,
 "nbformat_minor": 5
}
